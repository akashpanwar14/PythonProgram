{
 "cells": [
  {
   "cell_type": "markdown",
   "id": "b62051c2",
   "metadata": {},
   "source": [
    "# Exception Handling"
   ]
  },
  {
   "cell_type": "code",
   "execution_count": 5,
   "id": "9716d4cd",
   "metadata": {},
   "outputs": [
    {
     "name": "stdout",
     "output_type": "stream",
     "text": [
      "Enter the first term: 1\n",
      "Enter the second term: 0\n",
      "Not divisible by zero\n"
     ]
    }
   ],
   "source": [
    "# # 1 what is exception?\n",
    "# # 2 Error\n",
    "\n",
    "# x = int(input(\"Enter the first term: \"))\n",
    "# y = int(input(\"Enter the second term: \"))\n",
    "# try:\n",
    "#     print(f\"the ans  is: {x/y}\")\n",
    "# except ZeroDivisionError:\n",
    "#     print(\"Not divisible by zero\")\n",
    "# except IndexError:\n",
    "#     print{\"Not find file\"}"
   ]
  },
  {
   "cell_type": "code",
   "execution_count": 7,
   "id": "e005ff71",
   "metadata": {},
   "outputs": [
    {
     "name": "stdout",
     "output_type": "stream",
     "text": [
      "put the string\n",
      "execution completed\n"
     ]
    }
   ],
   "source": [
    "# s =\"python\"\n",
    "# try:\n",
    "#     print(s.index(p))\n",
    "# except ValueError:\n",
    "#     print(\"value not found\")\n",
    "# except NameError:\n",
    "#     print(\"put the string\")\n",
    "# except KeyError:\n",
    "#     print(\"put string\")\n",
    "# finally:\n",
    "#     print(\"execution completed\")"
   ]
  },
  {
   "cell_type": "code",
   "execution_count": 43,
   "id": "1195091c",
   "metadata": {
    "collapsed": true
   },
   "outputs": [
    {
     "name": "stdout",
     "output_type": "stream",
     "text": [
      "Enter the number: 1\n",
      "Multiplication table of 1 is :\n",
      "1 X 1 = 1\n",
      "1 X 2 = 2\n",
      "1 X 3 = 3\n",
      "1 X 4 = 4\n",
      "1 X 5 = 5\n",
      "1 X 6 = 6\n",
      "1 X 7 = 7\n",
      "1 X 8 = 8\n",
      "1 X 9 = 9\n",
      "1 X 10 = 10\n",
      "some imp lines of codes\n",
      "end of code\n"
     ]
    }
   ],
   "source": [
    "try:\n",
    "    a = input(\"Enter the number: \")\n",
    "    print(f\"Multiplication table of {int(a)} is :\")\n",
    "except:\n",
    "    print(\"try number\")\n",
    "try:\n",
    "      for i in range(1,11):\n",
    "            print(f\"{int(a)} X {i} = {int(a)*i}\")\n",
    "except:\n",
    "    print(\" invalid input! \")\n",
    "print(\"some imp lines of codes\")\n",
    "print(\"end of code\")"
   ]
  },
  {
   "cell_type": "code",
   "execution_count": null,
   "id": "f4aa9f12",
   "metadata": {},
   "outputs": [],
   "source": []
  }
 ],
 "metadata": {
  "kernelspec": {
   "display_name": "Python 3 (ipykernel)",
   "language": "python",
   "name": "python3"
  },
  "language_info": {
   "codemirror_mode": {
    "name": "ipython",
    "version": 3
   },
   "file_extension": ".py",
   "mimetype": "text/x-python",
   "name": "python",
   "nbconvert_exporter": "python",
   "pygments_lexer": "ipython3",
   "version": "3.11.5"
  }
 },
 "nbformat": 4,
 "nbformat_minor": 5
}
